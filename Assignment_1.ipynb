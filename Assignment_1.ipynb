{
 "cells": [
  {
   "cell_type": "markdown",
   "id": "fdfeed05",
   "metadata": {},
   "source": [
    "Q-1. Write an SQL query to fetch “FIRST_NAME” from Worker table using the alias name as WORKER_NAME\n"
   ]
  },
  {
   "cell_type": "code",
   "execution_count": 64,
   "id": "049d1212",
   "metadata": {},
   "outputs": [
    {
     "name": "stdout",
     "output_type": "stream",
     "text": [
      "Requirement already satisfied: mysql-connector-python in c:\\users\\asus\\anaconda3\\envs\\tensorflow\\lib\\site-packages (8.0.30)\n",
      "Requirement already satisfied: protobuf<=3.20.1,>=3.11.0 in c:\\users\\asus\\anaconda3\\envs\\tensorflow\\lib\\site-packages (from mysql-connector-python) (3.19.4)\n"
     ]
    }
   ],
   "source": [
    "!pip install mysql-connector-python"
   ]
  },
  {
   "cell_type": "code",
   "execution_count": 65,
   "id": "79c02912",
   "metadata": {},
   "outputs": [],
   "source": [
    "import mysql.connector as conn"
   ]
  },
  {
   "cell_type": "code",
   "execution_count": 66,
   "id": "eb097ca0",
   "metadata": {},
   "outputs": [
    {
     "data": {
      "text/plain": [
       "<mysql.connector.connection_cext.CMySQLConnection at 0x1dd4fe1a488>"
      ]
     },
     "execution_count": 66,
     "metadata": {},
     "output_type": "execute_result"
    }
   ],
   "source": [
    "myconn = conn.connect(host = \"localhost\", user = \"root\", password = \"Root@123\")\n",
    "myconn"
   ]
  },
  {
   "cell_type": "code",
   "execution_count": 68,
   "id": "b33c5fc6",
   "metadata": {},
   "outputs": [],
   "source": [
    "## cursor is a pointer to where system will start reading or writing\n",
    "cursor = myconn.cursor()"
   ]
  },
  {
   "cell_type": "code",
   "execution_count": 69,
   "id": "116230cd",
   "metadata": {},
   "outputs": [
    {
     "data": {
      "text/plain": [
       "[('cardataset',),\n",
       " ('dev',),\n",
       " ('information_schema',),\n",
       " ('mysql',),\n",
       " ('performance_schema',),\n",
       " ('sys',)]"
      ]
     },
     "execution_count": 69,
     "metadata": {},
     "output_type": "execute_result"
    }
   ],
   "source": [
    "## fetching all the dabases in local sql_workbench\n",
    "cursor.execute(\"show databases\")\n",
    "cursor.fetchall()\n",
    "\n"
   ]
  },
  {
   "cell_type": "code",
   "execution_count": 93,
   "id": "d0d8b4c5",
   "metadata": {},
   "outputs": [],
   "source": [
    "### here we will use the dev database\n",
    "\n",
    "cursor.execute(\"use dev\")"
   ]
  },
  {
   "cell_type": "code",
   "execution_count": 94,
   "id": "632b6e18",
   "metadata": {},
   "outputs": [],
   "source": [
    "cursor.execute(\"show tables\")\n"
   ]
  },
  {
   "cell_type": "code",
   "execution_count": 95,
   "id": "da606d45",
   "metadata": {},
   "outputs": [
    {
     "data": {
      "text/plain": [
       "[('datascientist',), ('employees',), ('glassdata',)]"
      ]
     },
     "execution_count": 95,
     "metadata": {},
     "output_type": "execute_result"
    }
   ],
   "source": [
    "cursor.fetchall()"
   ]
  },
  {
   "cell_type": "code",
   "execution_count": 101,
   "id": "a91f6281",
   "metadata": {},
   "outputs": [],
   "source": [
    "cursor.execute(\"select FIRST_NAME as WORKER_NAME from dev.employees \")"
   ]
  },
  {
   "cell_type": "code",
   "execution_count": 102,
   "id": "e0456e57",
   "metadata": {},
   "outputs": [
    {
     "data": {
      "text/plain": [
       "[('Donald',),\n",
       " ('Douglas',),\n",
       " ('Jennifer',),\n",
       " ('Michael',),\n",
       " ('Pat',),\n",
       " ('Susan',),\n",
       " ('Hermann',),\n",
       " ('Shelley',),\n",
       " ('William',),\n",
       " ('Neena',),\n",
       " ('Lex',),\n",
       " ('Alexander',),\n",
       " ('Bruce',),\n",
       " ('David',),\n",
       " ('Valli',),\n",
       " ('Diana',),\n",
       " ('Nancy',),\n",
       " ('Daniel',),\n",
       " ('John',),\n",
       " ('Ismael',),\n",
       " ('Jose Manuel',),\n",
       " ('Luis',),\n",
       " ('Den',),\n",
       " ('Alexander',),\n",
       " ('Shelli',),\n",
       " ('Sigal',),\n",
       " ('Guy',),\n",
       " ('Karen',),\n",
       " ('Matthew',),\n",
       " ('Adam',),\n",
       " ('Payam',),\n",
       " ('Shanta',),\n",
       " ('Kevin',),\n",
       " ('Julia',),\n",
       " ('Irene',),\n",
       " ('James',),\n",
       " ('Steven',),\n",
       " ('Laura',),\n",
       " ('Mozhe',),\n",
       " ('James',),\n",
       " ('TJ',),\n",
       " ('Jason',),\n",
       " ('Michael',),\n",
       " ('Ki',),\n",
       " ('Hazel',),\n",
       " ('Renske',),\n",
       " ('Stephen',),\n",
       " ('John',),\n",
       " ('Joshua',),\n",
       " (None,)]"
      ]
     },
     "execution_count": 102,
     "metadata": {},
     "output_type": "execute_result"
    }
   ],
   "source": [
    "cursor.fetchall()"
   ]
  },
  {
   "cell_type": "markdown",
   "id": "a540b9ca",
   "metadata": {},
   "source": [
    "Q-2. Write an SQL query to fetch unique values of DEPARTMENT from Worker table.\n"
   ]
  },
  {
   "cell_type": "code",
   "execution_count": 103,
   "id": "d86accf6",
   "metadata": {},
   "outputs": [],
   "source": [
    "cursor.execute(\"select distinct JOB_ID from dev.employees\")"
   ]
  },
  {
   "cell_type": "code",
   "execution_count": 104,
   "id": "a8c389a9",
   "metadata": {},
   "outputs": [
    {
     "data": {
      "text/plain": [
       "[('SH_CLERK',),\n",
       " ('AD_ASST',),\n",
       " ('MK_MAN',),\n",
       " ('MK_REP',),\n",
       " ('HR_REP',),\n",
       " ('PR_REP',),\n",
       " ('AC_MGR',),\n",
       " ('AC_ACCOUNT',),\n",
       " ('AD_VP',),\n",
       " ('IT_PROG',),\n",
       " ('FI_MGR',),\n",
       " ('FI_ACCOUNT',),\n",
       " ('PU_MAN',),\n",
       " ('PU_CLERK',),\n",
       " ('ST_MAN',),\n",
       " ('ST_CLERK',),\n",
       " (None,)]"
      ]
     },
     "execution_count": 104,
     "metadata": {},
     "output_type": "execute_result"
    }
   ],
   "source": [
    "cursor.fetchall()"
   ]
  },
  {
   "cell_type": "markdown",
   "id": "ea43e82c",
   "metadata": {},
   "source": [
    "Q-3. Write an SQL query to show the last 5 record from a table.\n",
    "\n",
    "\n"
   ]
  },
  {
   "cell_type": "code",
   "execution_count": 105,
   "id": "31ad58a6",
   "metadata": {},
   "outputs": [],
   "source": [
    "cursor.execute(\"select * from employees order by EMPLOYEE_ID desc limit 5\")"
   ]
  },
  {
   "cell_type": "code",
   "execution_count": 106,
   "id": "c727136c",
   "metadata": {},
   "outputs": [
    {
     "data": {
      "text/plain": [
       "[(206,\n",
       "  'William',\n",
       "  'Gietz',\n",
       "  'WGIETZ',\n",
       "  '515.123.8181',\n",
       "  '07-JUN-02',\n",
       "  'AC_ACCOUNT',\n",
       "  8300,\n",
       "  ' - ',\n",
       "  205,\n",
       "  110),\n",
       " (205,\n",
       "  'Shelley',\n",
       "  'Higgins',\n",
       "  'SHIGGINS',\n",
       "  '515.123.8080',\n",
       "  '07-JUN-02',\n",
       "  'AC_MGR',\n",
       "  12008,\n",
       "  ' - ',\n",
       "  101,\n",
       "  110),\n",
       " (204,\n",
       "  'Hermann',\n",
       "  'Baer',\n",
       "  'HBAER',\n",
       "  '515.123.8888',\n",
       "  '07-JUN-02',\n",
       "  'PR_REP',\n",
       "  10000,\n",
       "  ' - ',\n",
       "  101,\n",
       "  70),\n",
       " (203,\n",
       "  'Susan',\n",
       "  'Mavris',\n",
       "  'SMAVRIS',\n",
       "  '515.123.7777',\n",
       "  '07-JUN-02',\n",
       "  'HR_REP',\n",
       "  6500,\n",
       "  ' - ',\n",
       "  101,\n",
       "  40),\n",
       " (202,\n",
       "  'Pat',\n",
       "  'Fay',\n",
       "  'PFAY',\n",
       "  '603.123.6666',\n",
       "  '17-AUG-05',\n",
       "  'MK_REP',\n",
       "  6000,\n",
       "  ' - ',\n",
       "  201,\n",
       "  20)]"
      ]
     },
     "execution_count": 106,
     "metadata": {},
     "output_type": "execute_result"
    }
   ],
   "source": [
    "cursor.fetchall()"
   ]
  },
  {
   "cell_type": "code",
   "execution_count": null,
   "id": "5e029e46",
   "metadata": {},
   "outputs": [],
   "source": [
    "\n"
   ]
  }
 ],
 "metadata": {
  "kernelspec": {
   "display_name": "Python 3 (ipykernel)",
   "language": "python",
   "name": "python3"
  },
  "language_info": {
   "codemirror_mode": {
    "name": "ipython",
    "version": 3
   },
   "file_extension": ".py",
   "mimetype": "text/x-python",
   "name": "python",
   "nbconvert_exporter": "python",
   "pygments_lexer": "ipython3",
   "version": "3.7.13"
  }
 },
 "nbformat": 4,
 "nbformat_minor": 5
}
